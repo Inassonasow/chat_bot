{
 "cells": [
  {
   "cell_type": "code",
   "execution_count": 8,
   "id": "c2c1bda6",
   "metadata": {},
   "outputs": [
    {
     "data": {
      "text/html": [
       "<div>\n",
       "<style scoped>\n",
       "    .dataframe tbody tr th:only-of-type {\n",
       "        vertical-align: middle;\n",
       "    }\n",
       "\n",
       "    .dataframe tbody tr th {\n",
       "        vertical-align: top;\n",
       "    }\n",
       "\n",
       "    .dataframe thead th {\n",
       "        text-align: right;\n",
       "    }\n",
       "</style>\n",
       "<table border=\"1\" class=\"dataframe\">\n",
       "  <thead>\n",
       "    <tr style=\"text-align: right;\">\n",
       "      <th></th>\n",
       "      <th>age</th>\n",
       "      <th>mois_grossesse</th>\n",
       "      <th>poids_kg</th>\n",
       "      <th>taille_cm</th>\n",
       "      <th>activité</th>\n",
       "      <th>régime</th>\n",
       "      <th>antécédents</th>\n",
       "      <th>symptôme</th>\n",
       "      <th>profil_risque</th>\n",
       "    </tr>\n",
       "  </thead>\n",
       "  <tbody>\n",
       "    <tr>\n",
       "      <th>0</th>\n",
       "      <td>23</td>\n",
       "      <td>8</td>\n",
       "      <td>110</td>\n",
       "      <td>156</td>\n",
       "      <td>modérée</td>\n",
       "      <td>omnivore</td>\n",
       "      <td>diabète</td>\n",
       "      <td>douleur</td>\n",
       "      <td>élevé</td>\n",
       "    </tr>\n",
       "    <tr>\n",
       "      <th>1</th>\n",
       "      <td>27</td>\n",
       "      <td>9</td>\n",
       "      <td>78</td>\n",
       "      <td>164</td>\n",
       "      <td>élevée</td>\n",
       "      <td>omnivore</td>\n",
       "      <td>autre</td>\n",
       "      <td>nausée</td>\n",
       "      <td>normal</td>\n",
       "    </tr>\n",
       "    <tr>\n",
       "      <th>2</th>\n",
       "      <td>21</td>\n",
       "      <td>9</td>\n",
       "      <td>76</td>\n",
       "      <td>147</td>\n",
       "      <td>modérée</td>\n",
       "      <td>végétarien</td>\n",
       "      <td>autre</td>\n",
       "      <td>aucun</td>\n",
       "      <td>modéré</td>\n",
       "    </tr>\n",
       "    <tr>\n",
       "      <th>3</th>\n",
       "      <td>42</td>\n",
       "      <td>2</td>\n",
       "      <td>92</td>\n",
       "      <td>169</td>\n",
       "      <td>élevée</td>\n",
       "      <td>végétalien</td>\n",
       "      <td>autre</td>\n",
       "      <td>douleur</td>\n",
       "      <td>élevé</td>\n",
       "    </tr>\n",
       "    <tr>\n",
       "      <th>4</th>\n",
       "      <td>31</td>\n",
       "      <td>3</td>\n",
       "      <td>93</td>\n",
       "      <td>148</td>\n",
       "      <td>modérée</td>\n",
       "      <td>végétalien</td>\n",
       "      <td>aucun</td>\n",
       "      <td>fatigue</td>\n",
       "      <td>modéré</td>\n",
       "    </tr>\n",
       "    <tr>\n",
       "      <th>...</th>\n",
       "      <td>...</td>\n",
       "      <td>...</td>\n",
       "      <td>...</td>\n",
       "      <td>...</td>\n",
       "      <td>...</td>\n",
       "      <td>...</td>\n",
       "      <td>...</td>\n",
       "      <td>...</td>\n",
       "      <td>...</td>\n",
       "    </tr>\n",
       "    <tr>\n",
       "      <th>49995</th>\n",
       "      <td>25</td>\n",
       "      <td>3</td>\n",
       "      <td>78</td>\n",
       "      <td>154</td>\n",
       "      <td>élevée</td>\n",
       "      <td>végétalien</td>\n",
       "      <td>diabète</td>\n",
       "      <td>nausée</td>\n",
       "      <td>modéré</td>\n",
       "    </tr>\n",
       "    <tr>\n",
       "      <th>49996</th>\n",
       "      <td>29</td>\n",
       "      <td>7</td>\n",
       "      <td>52</td>\n",
       "      <td>170</td>\n",
       "      <td>modérée</td>\n",
       "      <td>végétalien</td>\n",
       "      <td>aucun</td>\n",
       "      <td>aucun</td>\n",
       "      <td>modéré</td>\n",
       "    </tr>\n",
       "    <tr>\n",
       "      <th>49997</th>\n",
       "      <td>22</td>\n",
       "      <td>3</td>\n",
       "      <td>54</td>\n",
       "      <td>166</td>\n",
       "      <td>faible</td>\n",
       "      <td>omnivore</td>\n",
       "      <td>aucun</td>\n",
       "      <td>aucun</td>\n",
       "      <td>normal</td>\n",
       "    </tr>\n",
       "    <tr>\n",
       "      <th>49998</th>\n",
       "      <td>39</td>\n",
       "      <td>7</td>\n",
       "      <td>82</td>\n",
       "      <td>173</td>\n",
       "      <td>faible</td>\n",
       "      <td>omnivore</td>\n",
       "      <td>diabète</td>\n",
       "      <td>nausée</td>\n",
       "      <td>élevé</td>\n",
       "    </tr>\n",
       "    <tr>\n",
       "      <th>49999</th>\n",
       "      <td>27</td>\n",
       "      <td>5</td>\n",
       "      <td>63</td>\n",
       "      <td>173</td>\n",
       "      <td>faible</td>\n",
       "      <td>végétalien</td>\n",
       "      <td>asthme</td>\n",
       "      <td>fatigue</td>\n",
       "      <td>modéré</td>\n",
       "    </tr>\n",
       "  </tbody>\n",
       "</table>\n",
       "<p>50000 rows × 9 columns</p>\n",
       "</div>"
      ],
      "text/plain": [
       "       age  mois_grossesse  poids_kg  taille_cm activité      régime  \\\n",
       "0       23               8       110        156  modérée    omnivore   \n",
       "1       27               9        78        164   élevée    omnivore   \n",
       "2       21               9        76        147  modérée  végétarien   \n",
       "3       42               2        92        169   élevée  végétalien   \n",
       "4       31               3        93        148  modérée  végétalien   \n",
       "...    ...             ...       ...        ...      ...         ...   \n",
       "49995   25               3        78        154   élevée  végétalien   \n",
       "49996   29               7        52        170  modérée  végétalien   \n",
       "49997   22               3        54        166   faible    omnivore   \n",
       "49998   39               7        82        173   faible    omnivore   \n",
       "49999   27               5        63        173   faible  végétalien   \n",
       "\n",
       "      antécédents symptôme profil_risque  \n",
       "0         diabète  douleur         élevé  \n",
       "1           autre   nausée        normal  \n",
       "2           autre    aucun        modéré  \n",
       "3           autre  douleur         élevé  \n",
       "4           aucun  fatigue        modéré  \n",
       "...           ...      ...           ...  \n",
       "49995     diabète   nausée        modéré  \n",
       "49996       aucun    aucun        modéré  \n",
       "49997       aucun    aucun        normal  \n",
       "49998     diabète   nausée         élevé  \n",
       "49999      asthme  fatigue        modéré  \n",
       "\n",
       "[50000 rows x 9 columns]"
      ]
     },
     "execution_count": 8,
     "metadata": {},
     "output_type": "execute_result"
    }
   ],
   "source": [
    "import pandas as pd\n",
    "import seaborn as sns\n",
    "import matplotlib.pyplot as plt\n",
    "\n",
    "# Chargement des données\n",
    "df=pd.read_csv('donnees_grossesse.csv')\n",
    "df"
   ]
  },
  {
   "cell_type": "code",
   "execution_count": 9,
   "id": "9b57470c",
   "metadata": {},
   "outputs": [
    {
     "data": {
      "text/plain": [
       "profil_risque\n",
       "élevé     22795\n",
       "modéré    16366\n",
       "normal    10839\n",
       "Name: count, dtype: int64"
      ]
     },
     "execution_count": 9,
     "metadata": {},
     "output_type": "execute_result"
    }
   ],
   "source": [
    "df['profil_risque'].value_counts()"
   ]
  },
  {
   "cell_type": "code",
   "execution_count": 10,
   "id": "c635fe55",
   "metadata": {},
   "outputs": [
    {
     "data": {
      "image/png": "[encoded data removed]",
      "text/plain": [
       "<Figure size 640x480 with 1 Axes>"
      ]
     },
     "metadata": {},
     "output_type": "display_data"
    }
   ],
   "source": [
    "# Afficher la distribution des profils de risque\n",
    "df['profil_risque'].value_counts().plot(kind='bar', color=['green', 'orange', 'red'])\n",
    "plt.title(\"Distribution des profils de risque\")\n",
    "plt.xlabel(\"Niveau de risque\")\n",
    "plt.ylabel(\"Nombre de cas\")\n",
    "plt.xticks(rotation=0)\n",
    "plt.show()"
   ]
  },
  {
   "cell_type": "code",
   "execution_count": 11,
   "id": "ed5fcc83",
   "metadata": {},
   "outputs": [
    {
     "name": "stdout",
     "output_type": "stream",
     "text": [
      "age               0\n",
      "mois_grossesse    0\n",
      "poids_kg          0\n",
      "taille_cm         0\n",
      "activité          0\n",
      "régime            0\n",
      "antécédents       0\n",
      "symptôme          0\n",
      "profil_risque     0\n",
      "dtype: int64\n"
     ]
    }
   ],
   "source": [
    "df= df.drop_duplicates() # je supprime les doublons ici\n",
    "print(df.isnull().sum()) #je verifie si y'a des valeurs manquants"
   ]
  },
  {
   "cell_type": "code",
   "execution_count": 12,
   "id": "e881917e",
   "metadata": {},
   "outputs": [
    {
     "name": "stdout",
     "output_type": "stream",
     "text": [
      "Accuracy: 0.9125737721316395\n",
      "\n",
      "Classification Report:\n",
      "              precision    recall  f1-score   support\n",
      "\n",
      "      modéré       0.86      0.87      0.87      3254\n",
      "      normal       0.86      0.98      0.92      2194\n",
      "       élevé       0.98      0.91      0.95      4549\n",
      "\n",
      "    accuracy                           0.91      9997\n",
      "   macro avg       0.90      0.92      0.91      9997\n",
      "weighted avg       0.92      0.91      0.91      9997\n",
      "\n"
     ]
    }
   ],
   "source": [
    "from sklearn.preprocessing import LabelEncoder\n",
    "from sklearn.model_selection import train_test_split\n",
    "from sklearn.ensemble import RandomForestClassifier\n",
    "from sklearn.metrics import accuracy_score, classification_report\n",
    "\n",
    "# Définir les données d'entrée (X) et la sortie (y)\n",
    "X = df.drop(columns=['profil_risque'])  # Toutes les colonnes sauf la cible\n",
    "y = df['profil_risque']  # La colonne cible\n",
    "\n",
    "# Encodage des colonnes catégorielles\n",
    "label_encoders = {}\n",
    "colonnes_categorielles = X.select_dtypes(include=['object']).columns  # Colonnes non numériques\n",
    "\n",
    "for col in colonnes_categorielles:\n",
    "    le = LabelEncoder()\n",
    "    X[col] = le.fit_transform(X[col].astype(str))\n",
    "    label_encoders[col] = le\n",
    "\n",
    "# Division des données en ensembles d'entraînement et de test\n",
    "X_train, X_test, y_train, y_test = train_test_split(X, y, test_size=0.2, random_state=42)\n",
    "\n",
    "# Initialisation du modèle\n",
    "model = RandomForestClassifier(\n",
    "    n_estimators=200, \n",
    "    max_depth=10, \n",
    "    class_weight='balanced', \n",
    "    random_state=42\n",
    ")\n",
    "\n",
    "# Entraînement du modèle\n",
    "model.fit(X_train, y_train)\n",
    "\n",
    "# Prédictions sur les données de test\n",
    "y_pred = model.predict(X_test)\n",
    "\n",
    "# Évaluation du modèle\n",
    "accuracy = accuracy_score(y_test, y_pred)\n",
    "print(f\"Accuracy: {accuracy}\")\n",
    "print(\"\\nClassification Report:\")\n",
    "print(classification_report(y_test, y_pred))"
   ]
  },
  {
   "cell_type": "code",
   "execution_count": null,
   "id": "f3d879ad",
   "metadata": {
    "vscode": {
     "languageId": "ruby"
    }
   },
   "outputs": [],
   "source": []
  },
  {
   "cell_type": "code",
   "execution_count": null,
   "id": "e4dfb6d9",
   "metadata": {},
   "outputs": [],
   "source": []
  },
  {
   "cell_type": "code",
   "execution_count": 13,
   "id": "0660f02c",
   "metadata": {},
   "outputs": [
    {
     "name": "stdout",
     "output_type": "stream",
     "text": [
      "Valeurs encodées pour activité:\n",
      "[1 2 0]\n",
      "\n",
      "Valeurs encodées pour régime:\n",
      "[0 2 1]\n",
      "\n",
      "Valeurs encodées pour antécédents:\n",
      "[3 2 1 0 4]\n",
      "\n",
      "Valeurs encodées pour symptôme:\n",
      "[1 3 0 2]\n",
      "\n"
     ]
    }
   ],
   "source": [
    "label_encoders = {}\n",
    "colonnes_categorielles = ['activité', 'régime', 'antécédents', 'symptôme']\n",
    "\n",
    "for col in colonnes_categorielles:\n",
    "    le=LabelEncoder()\n",
    "    X[col] = le.fit_transform(X[col].astype(str))\n",
    "    label_encoders[col]=le\n",
    "# Afficher les valeurs encodées\n",
    "for col in colonnes_categorielles:\n",
    "    print(f\"Valeurs encodées pour {col}:\")\n",
    "    print(X[col].unique())\n",
    "    print()"
   ]
  },
  {
   "cell_type": "code",
   "execution_count": 14,
   "id": "b413adde",
   "metadata": {},
   "outputs": [
    {
     "data": {
      "text/plain": [
       "['label_encoders.pkl']"
      ]
     },
     "execution_count": 14,
     "metadata": {},
     "output_type": "execute_result"
    }
   ],
   "source": [
    "import joblib\n",
    "joblib.dump(model, 'model_risque_grossesse.pkl')\n",
    "joblib.dump(label_encoders, 'label_encoders.pkl')\n"
   ]
  },
  {
   "cell_type": "code",
   "execution_count": null,
   "id": "f8f5b03a",
   "metadata": {},
   "outputs": [],
   "source": []
  },
  {
   "cell_type": "code",
   "execution_count": null,
   "id": "b91afb91",
   "metadata": {},
   "outputs": [],
   "source": []
  },
  {
   "cell_type": "code",
   "execution_count": null,
   "id": "7dad0678",
   "metadata": {},
   "outputs": [],
   "source": []
  }
 ],
 "metadata": {
  "kernelspec": {
   "display_name": "Python (env)",
   "language": "python",
   "name": "env"
  },
  "language_info": {
   "codemirror_mode": {
    "name": "ipython",
    "version": 3
   },
   "file_extension": ".py",
   "mimetype": "text/x-python",
   "name": "python",
   "nbconvert_exporter": "python",
   "pygments_lexer": "ipython3",
   "version": "3.13.3"
  }
 },
 "nbformat": 4,
 "nbformat_minor": 5
}
